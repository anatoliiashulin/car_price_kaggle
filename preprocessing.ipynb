{
 "cells": [
  {
   "cell_type": "code",
   "execution_count": 1,
   "id": "a3e9e5e4",
   "metadata": {},
   "outputs": [],
   "source": [
    "import sys \n",
    "import pandas as pd \n",
    "import numpy as np \n",
    "from tqdm import tqdm\n",
    "from pyvin import VIN\n",
    "\n",
    "import seaborn as sns \n",
    "import matplotlib.pyplot as plt\n",
    "\n",
    "from scipy.stats import spearmanr\n",
    "import spacy \n",
    "import re\n",
    "from nltk.corpus import stopwords as nltk_stopwords"
   ]
  },
  {
   "cell_type": "code",
   "execution_count": 2,
   "id": "cb2e7452",
   "metadata": {},
   "outputs": [],
   "source": [
    "tqdm.pandas()\n",
    "plt.style.use('seaborn-v0_8-darkgrid')\n",
    "sys.setrecursionlimit(500000000)\n",
    "pd.options.mode.chained_assignment = None"
   ]
  },
  {
   "cell_type": "markdown",
   "id": "7416341c",
   "metadata": {},
   "source": [
    "## загрузка данных"
   ]
  },
  {
   "cell_type": "code",
   "execution_count": 3,
   "id": "4b1c35bd",
   "metadata": {},
   "outputs": [],
   "source": [
    "df_train = pd.read_csv('train.csv')\n",
    "df_test = pd.read_csv('test.csv')"
   ]
  },
  {
   "cell_type": "code",
   "execution_count": 4,
   "id": "a1bc9b27",
   "metadata": {},
   "outputs": [
    {
     "data": {
      "text/plain": [
       "Index(['sellingprice'], dtype='object')"
      ]
     },
     "execution_count": 4,
     "metadata": {},
     "output_type": "execute_result"
    }
   ],
   "source": [
    "df_train.columns[~df_train.columns.isin(df_test.columns)] #таргет"
   ]
  },
  {
   "cell_type": "code",
   "execution_count": 5,
   "id": "ff50df94",
   "metadata": {},
   "outputs": [
    {
     "data": {
      "text/html": [
       "<div>\n",
       "<style scoped>\n",
       "    .dataframe tbody tr th:only-of-type {\n",
       "        vertical-align: middle;\n",
       "    }\n",
       "\n",
       "    .dataframe tbody tr th {\n",
       "        vertical-align: top;\n",
       "    }\n",
       "\n",
       "    .dataframe thead th {\n",
       "        text-align: right;\n",
       "    }\n",
       "</style>\n",
       "<table border=\"1\" class=\"dataframe\">\n",
       "  <thead>\n",
       "    <tr style=\"text-align: right;\">\n",
       "      <th></th>\n",
       "      <th>year</th>\n",
       "      <th>make</th>\n",
       "      <th>model</th>\n",
       "      <th>trim</th>\n",
       "      <th>body</th>\n",
       "      <th>transmission</th>\n",
       "      <th>vin</th>\n",
       "      <th>state</th>\n",
       "      <th>condition</th>\n",
       "      <th>odometer</th>\n",
       "      <th>color</th>\n",
       "      <th>interior</th>\n",
       "      <th>seller</th>\n",
       "      <th>sellingprice</th>\n",
       "      <th>saledate</th>\n",
       "    </tr>\n",
       "  </thead>\n",
       "  <tbody>\n",
       "    <tr>\n",
       "      <th>266981</th>\n",
       "      <td>2010</td>\n",
       "      <td>Honda</td>\n",
       "      <td>Civic</td>\n",
       "      <td>LX</td>\n",
       "      <td>Coupe</td>\n",
       "      <td>automatic</td>\n",
       "      <td>2hgfg1b62ah509129</td>\n",
       "      <td>nc</td>\n",
       "      <td>2.9</td>\n",
       "      <td>165629.0</td>\n",
       "      <td>silver</td>\n",
       "      <td>gray</td>\n",
       "      <td>assets recovered</td>\n",
       "      <td>4700</td>\n",
       "      <td>Mon Mar 02 2015 01:30:00 GMT-0800 (PST)</td>\n",
       "    </tr>\n",
       "    <tr>\n",
       "      <th>149922</th>\n",
       "      <td>2005</td>\n",
       "      <td>NaN</td>\n",
       "      <td>NaN</td>\n",
       "      <td>NaN</td>\n",
       "      <td>NaN</td>\n",
       "      <td>NaN</td>\n",
       "      <td>1fmzu73k65ua69658</td>\n",
       "      <td>va</td>\n",
       "      <td>3.2</td>\n",
       "      <td>98339.0</td>\n",
       "      <td>silver</td>\n",
       "      <td>gray</td>\n",
       "      <td>shirlie slack mitsubishi</td>\n",
       "      <td>6500</td>\n",
       "      <td>Thu Jan 22 2015 01:35:00 GMT-0800 (PST)</td>\n",
       "    </tr>\n",
       "    <tr>\n",
       "      <th>423368</th>\n",
       "      <td>2012</td>\n",
       "      <td>Infiniti</td>\n",
       "      <td>M</td>\n",
       "      <td>M37x</td>\n",
       "      <td>Sedan</td>\n",
       "      <td>automatic</td>\n",
       "      <td>jn1by1ar7cm390230</td>\n",
       "      <td>nj</td>\n",
       "      <td>2.7</td>\n",
       "      <td>21269.0</td>\n",
       "      <td>—</td>\n",
       "      <td>black</td>\n",
       "      <td>nissan infiniti lt</td>\n",
       "      <td>24000</td>\n",
       "      <td>Wed May 27 2015 02:30:00 GMT-0700 (PDT)</td>\n",
       "    </tr>\n",
       "    <tr>\n",
       "      <th>164093</th>\n",
       "      <td>2011</td>\n",
       "      <td>Ford</td>\n",
       "      <td>Transit Connect</td>\n",
       "      <td>Cargo Van XLT</td>\n",
       "      <td>Minivan</td>\n",
       "      <td>automatic</td>\n",
       "      <td>nm0ls7bn7bt042799</td>\n",
       "      <td>md</td>\n",
       "      <td>4.9</td>\n",
       "      <td>116106.0</td>\n",
       "      <td>—</td>\n",
       "      <td>gray</td>\n",
       "      <td>ge fleet services for itself/servicer</td>\n",
       "      <td>8400</td>\n",
       "      <td>Tue Feb 17 2015 01:30:00 GMT-0800 (PST)</td>\n",
       "    </tr>\n",
       "    <tr>\n",
       "      <th>30494</th>\n",
       "      <td>2014</td>\n",
       "      <td>Chevrolet</td>\n",
       "      <td>Malibu</td>\n",
       "      <td>LTZ</td>\n",
       "      <td>Sedan</td>\n",
       "      <td>automatic</td>\n",
       "      <td>1g11h5sl9eu124357</td>\n",
       "      <td>il</td>\n",
       "      <td>4.0</td>\n",
       "      <td>11532.0</td>\n",
       "      <td>silver</td>\n",
       "      <td>black</td>\n",
       "      <td>gm remarketing</td>\n",
       "      <td>18500</td>\n",
       "      <td>Thu May 28 2015 04:00:00 GMT-0700 (PDT)</td>\n",
       "    </tr>\n",
       "  </tbody>\n",
       "</table>\n",
       "</div>"
      ],
      "text/plain": [
       "        year       make            model           trim     body transmission  \\\n",
       "266981  2010      Honda            Civic             LX    Coupe    automatic   \n",
       "149922  2005        NaN              NaN            NaN      NaN          NaN   \n",
       "423368  2012   Infiniti                M           M37x    Sedan    automatic   \n",
       "164093  2011       Ford  Transit Connect  Cargo Van XLT  Minivan    automatic   \n",
       "30494   2014  Chevrolet           Malibu            LTZ    Sedan    automatic   \n",
       "\n",
       "                      vin state  condition  odometer   color interior  \\\n",
       "266981  2hgfg1b62ah509129    nc        2.9  165629.0  silver     gray   \n",
       "149922  1fmzu73k65ua69658    va        3.2   98339.0  silver     gray   \n",
       "423368  jn1by1ar7cm390230    nj        2.7   21269.0       —    black   \n",
       "164093  nm0ls7bn7bt042799    md        4.9  116106.0       —     gray   \n",
       "30494   1g11h5sl9eu124357    il        4.0   11532.0  silver    black   \n",
       "\n",
       "                                       seller  sellingprice  \\\n",
       "266981                       assets recovered          4700   \n",
       "149922               shirlie slack mitsubishi          6500   \n",
       "423368                     nissan infiniti lt         24000   \n",
       "164093  ge fleet services for itself/servicer          8400   \n",
       "30494                          gm remarketing         18500   \n",
       "\n",
       "                                       saledate  \n",
       "266981  Mon Mar 02 2015 01:30:00 GMT-0800 (PST)  \n",
       "149922  Thu Jan 22 2015 01:35:00 GMT-0800 (PST)  \n",
       "423368  Wed May 27 2015 02:30:00 GMT-0700 (PDT)  \n",
       "164093  Tue Feb 17 2015 01:30:00 GMT-0800 (PST)  \n",
       "30494   Thu May 28 2015 04:00:00 GMT-0700 (PDT)  "
      ]
     },
     "execution_count": 5,
     "metadata": {},
     "output_type": "execute_result"
    }
   ],
   "source": [
    "df_train.sample(5)"
   ]
  },
  {
   "cell_type": "code",
   "execution_count": 6,
   "id": "9de46f9a",
   "metadata": {},
   "outputs": [
    {
     "name": "stdout",
     "output_type": "stream",
     "text": [
      "<class 'pandas.core.frame.DataFrame'>\n",
      "RangeIndex: 440236 entries, 0 to 440235\n",
      "Data columns (total 15 columns):\n",
      " #   Column        Non-Null Count   Dtype  \n",
      "---  ------        --------------   -----  \n",
      " 0   year          440236 non-null  int64  \n",
      " 1   make          432193 non-null  object \n",
      " 2   model         432113 non-null  object \n",
      " 3   trim          431899 non-null  object \n",
      " 4   body          429843 non-null  object \n",
      " 5   transmission  388775 non-null  object \n",
      " 6   vin           440236 non-null  object \n",
      " 7   state         440236 non-null  object \n",
      " 8   condition     430831 non-null  float64\n",
      " 9   odometer      440167 non-null  float64\n",
      " 10  color         439650 non-null  object \n",
      " 11  interior      439650 non-null  object \n",
      " 12  seller        440236 non-null  object \n",
      " 13  sellingprice  440236 non-null  int64  \n",
      " 14  saledate      440236 non-null  object \n",
      "dtypes: float64(2), int64(2), object(11)\n",
      "memory usage: 50.4+ MB\n"
     ]
    }
   ],
   "source": [
    "df_train.info()"
   ]
  },
  {
   "cell_type": "code",
   "execution_count": 7,
   "id": "5012b9d3",
   "metadata": {},
   "outputs": [
    {
     "data": {
      "text/html": [
       "<div>\n",
       "<style scoped>\n",
       "    .dataframe tbody tr th:only-of-type {\n",
       "        vertical-align: middle;\n",
       "    }\n",
       "\n",
       "    .dataframe tbody tr th {\n",
       "        vertical-align: top;\n",
       "    }\n",
       "\n",
       "    .dataframe thead th {\n",
       "        text-align: right;\n",
       "    }\n",
       "</style>\n",
       "<table border=\"1\" class=\"dataframe\">\n",
       "  <thead>\n",
       "    <tr style=\"text-align: right;\">\n",
       "      <th></th>\n",
       "      <th>0</th>\n",
       "    </tr>\n",
       "  </thead>\n",
       "  <tbody>\n",
       "    <tr>\n",
       "      <th>year</th>\n",
       "      <td>0.000000</td>\n",
       "    </tr>\n",
       "    <tr>\n",
       "      <th>make</th>\n",
       "      <td>0.018270</td>\n",
       "    </tr>\n",
       "    <tr>\n",
       "      <th>model</th>\n",
       "      <td>0.018451</td>\n",
       "    </tr>\n",
       "    <tr>\n",
       "      <th>trim</th>\n",
       "      <td>0.018938</td>\n",
       "    </tr>\n",
       "    <tr>\n",
       "      <th>body</th>\n",
       "      <td>0.023608</td>\n",
       "    </tr>\n",
       "    <tr>\n",
       "      <th>transmission</th>\n",
       "      <td>0.116894</td>\n",
       "    </tr>\n",
       "    <tr>\n",
       "      <th>vin</th>\n",
       "      <td>0.000000</td>\n",
       "    </tr>\n",
       "    <tr>\n",
       "      <th>state</th>\n",
       "      <td>0.000000</td>\n",
       "    </tr>\n",
       "    <tr>\n",
       "      <th>condition</th>\n",
       "      <td>0.021364</td>\n",
       "    </tr>\n",
       "    <tr>\n",
       "      <th>odometer</th>\n",
       "      <td>0.000157</td>\n",
       "    </tr>\n",
       "    <tr>\n",
       "      <th>color</th>\n",
       "      <td>0.001331</td>\n",
       "    </tr>\n",
       "    <tr>\n",
       "      <th>interior</th>\n",
       "      <td>0.001331</td>\n",
       "    </tr>\n",
       "    <tr>\n",
       "      <th>seller</th>\n",
       "      <td>0.000000</td>\n",
       "    </tr>\n",
       "    <tr>\n",
       "      <th>sellingprice</th>\n",
       "      <td>0.000000</td>\n",
       "    </tr>\n",
       "    <tr>\n",
       "      <th>saledate</th>\n",
       "      <td>0.000000</td>\n",
       "    </tr>\n",
       "  </tbody>\n",
       "</table>\n",
       "</div>"
      ],
      "text/plain": [
       "                     0\n",
       "year          0.000000\n",
       "make          0.018270\n",
       "model         0.018451\n",
       "trim          0.018938\n",
       "body          0.023608\n",
       "transmission  0.116894\n",
       "vin           0.000000\n",
       "state         0.000000\n",
       "condition     0.021364\n",
       "odometer      0.000157\n",
       "color         0.001331\n",
       "interior      0.001331\n",
       "seller        0.000000\n",
       "sellingprice  0.000000\n",
       "saledate      0.000000"
      ]
     },
     "execution_count": 7,
     "metadata": {},
     "output_type": "execute_result"
    }
   ],
   "source": [
    "df_train.isna().mean().to_frame()"
   ]
  },
  {
   "cell_type": "code",
   "execution_count": 8,
   "id": "7c3efa62",
   "metadata": {},
   "outputs": [
    {
     "data": {
      "text/html": [
       "<div>\n",
       "<style scoped>\n",
       "    .dataframe tbody tr th:only-of-type {\n",
       "        vertical-align: middle;\n",
       "    }\n",
       "\n",
       "    .dataframe tbody tr th {\n",
       "        vertical-align: top;\n",
       "    }\n",
       "\n",
       "    .dataframe thead th {\n",
       "        text-align: right;\n",
       "    }\n",
       "</style>\n",
       "<table border=\"1\" class=\"dataframe\">\n",
       "  <thead>\n",
       "    <tr style=\"text-align: right;\">\n",
       "      <th></th>\n",
       "      <th>0</th>\n",
       "    </tr>\n",
       "  </thead>\n",
       "  <tbody>\n",
       "    <tr>\n",
       "      <th>year</th>\n",
       "      <td>0.000000</td>\n",
       "    </tr>\n",
       "    <tr>\n",
       "      <th>make</th>\n",
       "      <td>0.018726</td>\n",
       "    </tr>\n",
       "    <tr>\n",
       "      <th>model</th>\n",
       "      <td>0.018890</td>\n",
       "    </tr>\n",
       "    <tr>\n",
       "      <th>trim</th>\n",
       "      <td>0.019208</td>\n",
       "    </tr>\n",
       "    <tr>\n",
       "      <th>body</th>\n",
       "      <td>0.023569</td>\n",
       "    </tr>\n",
       "    <tr>\n",
       "      <th>transmission</th>\n",
       "      <td>0.118219</td>\n",
       "    </tr>\n",
       "    <tr>\n",
       "      <th>vin</th>\n",
       "      <td>0.000000</td>\n",
       "    </tr>\n",
       "    <tr>\n",
       "      <th>state</th>\n",
       "      <td>0.000000</td>\n",
       "    </tr>\n",
       "    <tr>\n",
       "      <th>condition</th>\n",
       "      <td>0.021616</td>\n",
       "    </tr>\n",
       "    <tr>\n",
       "      <th>odometer</th>\n",
       "      <td>0.000173</td>\n",
       "    </tr>\n",
       "    <tr>\n",
       "      <th>color</th>\n",
       "      <td>0.001436</td>\n",
       "    </tr>\n",
       "    <tr>\n",
       "      <th>interior</th>\n",
       "      <td>0.001436</td>\n",
       "    </tr>\n",
       "    <tr>\n",
       "      <th>seller</th>\n",
       "      <td>0.000000</td>\n",
       "    </tr>\n",
       "    <tr>\n",
       "      <th>saledate</th>\n",
       "      <td>0.000000</td>\n",
       "    </tr>\n",
       "  </tbody>\n",
       "</table>\n",
       "</div>"
      ],
      "text/plain": [
       "                     0\n",
       "year          0.000000\n",
       "make          0.018726\n",
       "model         0.018890\n",
       "trim          0.019208\n",
       "body          0.023569\n",
       "transmission  0.118219\n",
       "vin           0.000000\n",
       "state         0.000000\n",
       "condition     0.021616\n",
       "odometer      0.000173\n",
       "color         0.001436\n",
       "interior      0.001436\n",
       "seller        0.000000\n",
       "saledate      0.000000"
      ]
     },
     "execution_count": 8,
     "metadata": {},
     "output_type": "execute_result"
    }
   ],
   "source": [
    "df_test.isna().mean().to_frame()"
   ]
  },
  {
   "cell_type": "markdown",
   "id": "8ff867ae",
   "metadata": {},
   "source": [
    "имеется большое количество пропусков в `transmission`. пройдемся по всем колонкам и посмотрит на данные внутри датасета"
   ]
  },
  {
   "cell_type": "markdown",
   "id": "e7ec8534",
   "metadata": {},
   "source": [
    "### year"
   ]
  },
  {
   "cell_type": "code",
   "execution_count": 9,
   "id": "9e48557e",
   "metadata": {},
   "outputs": [
    {
     "data": {
      "image/png": "[encoded data removed]",
      "text/plain": [
       "<Figure size 2000x1000 with 1 Axes>"
      ]
     },
     "metadata": {},
     "output_type": "display_data"
    }
   ],
   "source": [
    "df_train['year'].value_counts(normalize=True).sort_index().plot(kind='bar', figsize=(20,10));"
   ]
  },
  {
   "cell_type": "code",
   "execution_count": 10,
   "id": "0406bb3a",
   "metadata": {},
   "outputs": [
    {
     "data": {
      "image/png": "[encoded data removed]",
      "text/plain": [
       "<Figure size 2000x1000 with 1 Axes>"
      ]
     },
     "metadata": {},
     "output_type": "display_data"
    }
   ],
   "source": [
    "df_test['year'].value_counts(normalize=True).sort_index().plot(kind='bar', figsize=(20,10));"
   ]
  },
  {
   "cell_type": "markdown",
   "id": "abb6a33b",
   "metadata": {},
   "source": [
    "Делаю предположение, что данные собирались на начало 2015 года. Так же есть просадка в 2009 году. Возможно это вызвано кризисом 2007. Что предприятия могли в 2007 сделать план производста меньшим. \n",
    "\n",
    "Данный столбец понадобится для генерации нового признака (сколько лет машина на ходу)\n",
    "\n",
    "Для начала вытащит дату продажи машины"
   ]
  },
  {
   "cell_type": "code",
   "execution_count": 11,
   "id": "9d7d4ba3",
   "metadata": {},
   "outputs": [
    {
     "data": {
      "text/plain": [
       "212526    Wed Feb 25 2015 01:30:00 GMT-0800 (PST)\n",
       "Name: saledate, dtype: object"
      ]
     },
     "execution_count": 11,
     "metadata": {},
     "output_type": "execute_result"
    }
   ],
   "source": [
    "df_train['saledate'].sample() "
   ]
  },
  {
   "cell_type": "code",
   "execution_count": 12,
   "id": "562e3106",
   "metadata": {},
   "outputs": [],
   "source": [
    "#год продажи автомобиля\n",
    "df_train['year_2'] = df_train['saledate'].apply(lambda x: x.split(' ')[3]).astype(np.int64)\n",
    "df_test['year_2'] = df_test['saledate'].apply(lambda x: x.split(' ')[3]).astype(np.int64)"
   ]
  },
  {
   "cell_type": "code",
   "execution_count": 13,
   "id": "5fc31db5",
   "metadata": {},
   "outputs": [],
   "source": [
    "#сколько лет машина была на ходу\n",
    "df_train['years'] = df_train['year_2'] - df_train['year']\n",
    "df_test['years'] = df_test['year_2'] - df_test['year']"
   ]
  },
  {
   "cell_type": "code",
   "execution_count": 14,
   "id": "31384acd",
   "metadata": {},
   "outputs": [],
   "source": [
    "#удаляем год производства автомобиля, год продажи, и saledate\n",
    "df_train.drop(columns=['year', 'year_2', 'saledate'], inplace=True)\n",
    "df_test.drop(columns=['year', 'year_2', 'saledate'], inplace=True)"
   ]
  },
  {
   "cell_type": "code",
   "execution_count": 15,
   "id": "bf5d0a64",
   "metadata": {},
   "outputs": [
    {
     "data": {
      "text/plain": [
       "array([-1,  0,  1,  2,  3,  4,  5,  6,  7,  8,  9, 10, 11, 12, 13, 14, 15,\n",
       "       16, 17, 18, 19, 20, 21, 22, 23, 24, 25, 26, 27, 28, 29, 30, 31, 32,\n",
       "       33], dtype=int64)"
      ]
     },
     "execution_count": 15,
     "metadata": {},
     "output_type": "execute_result"
    }
   ],
   "source": [
    "np.sort(df_train['years'].unique())"
   ]
  },
  {
   "cell_type": "markdown",
   "id": "9fa85551",
   "metadata": {},
   "source": [
    "Можем пронаблюдать значения в -1 год. Когда машина продавалась раньше чем была произведена. \n",
    "Было 2 объяснения 1) ошибка 2) закупщики могли покупать напрямую до начала производства     \n",
    "\n",
    "Было решено создать столбец, в котором будет фиксироваться данный выброс"
   ]
  },
  {
   "cell_type": "code",
   "execution_count": 16,
   "id": "76122d02",
   "metadata": {},
   "outputs": [],
   "source": [
    "df_train['test'] = df_train['years'].apply(lambda x: 1 if x<0 else 0)\n",
    "df_test['test'] = df_test['years'].apply(lambda x: 1 if x<0 else 0)"
   ]
  },
  {
   "cell_type": "markdown",
   "id": "6cf249bf",
   "metadata": {},
   "source": [
    "## make"
   ]
  },
  {
   "cell_type": "code",
   "execution_count": 17,
   "id": "a2a6ad79",
   "metadata": {},
   "outputs": [
    {
     "data": {
      "text/plain": [
       "92"
      ]
     },
     "execution_count": 17,
     "metadata": {},
     "output_type": "execute_result"
    }
   ],
   "source": [
    "df_train['make'].nunique()"
   ]
  },
  {
   "cell_type": "code",
   "execution_count": 18,
   "id": "e9fa85d9",
   "metadata": {},
   "outputs": [
    {
     "data": {
      "text/plain": [
       "85"
      ]
     },
     "execution_count": 18,
     "metadata": {},
     "output_type": "execute_result"
    }
   ],
   "source": [
    "df_test['make'].nunique()"
   ]
  },
  {
   "cell_type": "code",
   "execution_count": 19,
   "id": "afc123e3",
   "metadata": {},
   "outputs": [
    {
     "data": {
      "text/plain": [
       "array(['Ford', 'Nissan', 'HUMMER', 'Lincoln', 'pontiac', 'Hyundai', nan,\n",
       "       'Buick', 'Chevrolet', 'Honda', 'Acura', 'Cadillac', 'GMC', 'Saab',\n",
       "       'Dodge', 'Mercedes-Benz', 'Toyota', 'Volkswagen', 'BMW',\n",
       "       'Infiniti', 'Chrysler', 'Kia', 'Jaguar', 'Subaru', 'Jeep', 'Lexus',\n",
       "       'mercedes', 'Scion', 'FIAT', 'Suzuki', 'Mazda', 'Volvo', 'Audi',\n",
       "       'MINI', 'Isuzu', 'Mitsubishi', 'smart', 'Pontiac', 'Porsche',\n",
       "       'subaru', 'ford', 'Land Rover', 'chrysler', 'Saturn', 'mazda',\n",
       "       'dodge', 'Ram', 'Oldsmobile', 'hyundai', 'Mercury', 'Bentley',\n",
       "       'toyota', 'lincoln', 'Fisker', 'nissan', 'chevrolet', 'honda',\n",
       "       'porsche', 'mitsubishi', 'lexus', 'bmw', 'Maserati', 'acura',\n",
       "       'jeep', 'mercury', 'Tesla', 'landrover', 'vw', 'cadillac', 'buick',\n",
       "       'gmc truck', 'land rover', 'volkswagen', 'Rolls-Royce', 'audi',\n",
       "       'Ferrari', 'suzuki', 'Plymouth', 'oldsmobile', 'Lamborghini',\n",
       "       'gmc', 'Geo', 'ford truck', 'Aston Martin', 'plymouth', 'Daewoo',\n",
       "       'maserati', 'kia', 'mercedes-b', 'dodge tk', 'mazda tk', 'dot',\n",
       "       'airstream'], dtype=object)"
      ]
     },
     "execution_count": 19,
     "metadata": {},
     "output_type": "execute_result"
    }
   ],
   "source": [
    "df_train['make'].unique()"
   ]
  },
  {
   "cell_type": "markdown",
   "id": "c1d1d3a0",
   "metadata": {},
   "source": [
    "у нас есть `Kia` и `kia`, `Mazda`, `mazda`  и т.д.\n",
    "После заполнения пропусков `будет сделано в конце`, строки будут приведены к нижнему регистру \n"
   ]
  },
  {
   "cell_type": "markdown",
   "id": "428aa357",
   "metadata": {},
   "source": [
    "### model"
   ]
  },
  {
   "cell_type": "code",
   "execution_count": 20,
   "id": "2689bb15",
   "metadata": {},
   "outputs": [
    {
     "data": {
      "text/plain": [
       "959"
      ]
     },
     "execution_count": 20,
     "metadata": {},
     "output_type": "execute_result"
    }
   ],
   "source": [
    "df_train.model.nunique()"
   ]
  },
  {
   "cell_type": "markdown",
   "id": "e0765876",
   "metadata": {},
   "source": [
    "C `model` есть ещё большее количество категорий. Так же будут обработы в конце ноутбука + заполнены пропуски при помощи VIN номера"
   ]
  },
  {
   "cell_type": "markdown",
   "id": "5b74b2be",
   "metadata": {},
   "source": [
    "### trim"
   ]
  },
  {
   "cell_type": "code",
   "execution_count": 21,
   "id": "0848ddf9",
   "metadata": {},
   "outputs": [
    {
     "data": {
      "text/plain": [
       "1922"
      ]
     },
     "execution_count": 21,
     "metadata": {},
     "output_type": "execute_result"
    }
   ],
   "source": [
    "df_train['trim'].nunique()"
   ]
  },
  {
   "cell_type": "markdown",
   "id": "697e0824",
   "metadata": {},
   "source": [
    "В trim 2% просуков. И большое количество уникальных значений. В ходе обработки было решено его удалить"
   ]
  },
  {
   "cell_type": "code",
   "execution_count": 22,
   "id": "6960c076",
   "metadata": {},
   "outputs": [],
   "source": [
    "df_train.drop(columns=['trim'], inplace=True)\n",
    "df_test.drop(columns=['trim'], inplace=True)"
   ]
  },
  {
   "cell_type": "markdown",
   "id": "43f1568f",
   "metadata": {},
   "source": [
    "### body "
   ]
  },
  {
   "cell_type": "markdown",
   "id": "cb8b1d1f",
   "metadata": {},
   "source": [
    "Данный столбец был приведён к нижнему регистру, пропуски были заполнены как `unknown`"
   ]
  },
  {
   "cell_type": "code",
   "execution_count": 23,
   "id": "47d9ef24",
   "metadata": {},
   "outputs": [],
   "source": [
    "def lower(x):\n",
    "    try:\n",
    "        return x.lower()\n",
    "    except:\n",
    "        return None\n",
    "    \n",
    "df_train['body'] = df_train['body'].apply(lower)\n",
    "df_test['body'] = df_test['body'].apply(lower)"
   ]
  },
  {
   "cell_type": "code",
   "execution_count": 24,
   "id": "d3c17880",
   "metadata": {},
   "outputs": [],
   "source": [
    "df_train['body'].fillna('unknown', inplace=True)\n",
    "df_test['body'].fillna('unknown', inplace=True)"
   ]
  },
  {
   "cell_type": "code",
   "execution_count": 25,
   "id": "8cddbc0a",
   "metadata": {},
   "outputs": [
    {
     "data": {
      "text/plain": [
       "body\n",
       "sedan        0.433542\n",
       "suv          0.256776\n",
       "hatchback    0.047054\n",
       "minivan      0.045689\n",
       "coupe        0.031565\n",
       "Name: proportion, dtype: float64"
      ]
     },
     "execution_count": 25,
     "metadata": {},
     "output_type": "execute_result"
    }
   ],
   "source": [
    "df_train['body'].value_counts(normalize=True).head()"
   ]
  },
  {
   "cell_type": "markdown",
   "id": "fdce2f3b",
   "metadata": {},
   "source": [
    "В 43% случаях покупается `sedan` "
   ]
  },
  {
   "cell_type": "markdown",
   "id": "cc5b55c9",
   "metadata": {},
   "source": [
    "### transmission"
   ]
  },
  {
   "cell_type": "code",
   "execution_count": 26,
   "id": "8535ec16",
   "metadata": {},
   "outputs": [
    {
     "data": {
      "text/plain": [
       "transmission\n",
       "automatic    375061\n",
       "manual        13714\n",
       "Name: count, dtype: int64"
      ]
     },
     "execution_count": 26,
     "metadata": {},
     "output_type": "execute_result"
    }
   ],
   "source": [
    "df_train['transmission'].value_counts()"
   ]
  },
  {
   "cell_type": "markdown",
   "id": "5589a776",
   "metadata": {},
   "source": [
    "Данные пропуски было решено заполнить по частоте"
   ]
  },
  {
   "cell_type": "code",
   "execution_count": 27,
   "id": "c81c69cf",
   "metadata": {},
   "outputs": [],
   "source": [
    "df_train['transmission'].fillna('automatic', inplace=True)\n",
    "df_test['transmission'].fillna('automatic', inplace=True)"
   ]
  },
  {
   "cell_type": "markdown",
   "id": "a6ba372e",
   "metadata": {},
   "source": [
    "### state"
   ]
  },
  {
   "cell_type": "code",
   "execution_count": 28,
   "id": "17b2a340",
   "metadata": {},
   "outputs": [
    {
     "data": {
      "text/plain": [
       "array(['md', 'mo', 'nj', 'tx', 'mi', 'nc', 'fl', 'oh', 'ca', 'az', 'ga',\n",
       "       'tn', 'in', 'pa', 'va', 'wi', 'co', 'ny', 'il', 'nv', 'mn', 'wa',\n",
       "       'sc', 'la', 'ne', 'ok', 'or', 'on', 'ma', 'ab', 'pr', 'hi', 'ut',\n",
       "       'qc', 'ms', 'nm', 'ns', 'al'], dtype=object)"
      ]
     },
     "execution_count": 28,
     "metadata": {},
     "output_type": "execute_result"
    }
   ],
   "source": [
    "df_train['state'].unique()"
   ]
  },
  {
   "cell_type": "code",
   "execution_count": 29,
   "id": "021d6290",
   "metadata": {},
   "outputs": [],
   "source": [
    "df_train['state'].fillna('unknown', inplace=True)\n",
    "df_test['state'].fillna('unknown', inplace=True)"
   ]
  },
  {
   "cell_type": "markdown",
   "id": "2922fabb",
   "metadata": {},
   "source": [
    "###  condition"
   ]
  },
  {
   "cell_type": "markdown",
   "id": "17633ae8",
   "metadata": {},
   "source": [
    "Вместо того, что бы заполнять пропуски по моде, было решено, что оценка коррелирует со сроком эксплуатации автомобиля. Потому мы можем разбить по группам"
   ]
  },
  {
   "cell_type": "code",
   "execution_count": 30,
   "id": "538bff84",
   "metadata": {},
   "outputs": [
    {
     "data": {
      "text/html": [
       "<div>\n",
       "<style scoped>\n",
       "    .dataframe tbody tr th:only-of-type {\n",
       "        vertical-align: middle;\n",
       "    }\n",
       "\n",
       "    .dataframe tbody tr th {\n",
       "        vertical-align: top;\n",
       "    }\n",
       "\n",
       "    .dataframe thead th {\n",
       "        text-align: right;\n",
       "    }\n",
       "</style>\n",
       "<table border=\"1\" class=\"dataframe\">\n",
       "  <thead>\n",
       "    <tr style=\"text-align: right;\">\n",
       "      <th></th>\n",
       "      <th>condition</th>\n",
       "      <th>years</th>\n",
       "    </tr>\n",
       "  </thead>\n",
       "  <tbody>\n",
       "    <tr>\n",
       "      <th>condition</th>\n",
       "      <td>1.000000</td>\n",
       "      <td>-0.551399</td>\n",
       "    </tr>\n",
       "    <tr>\n",
       "      <th>years</th>\n",
       "      <td>-0.551399</td>\n",
       "      <td>1.000000</td>\n",
       "    </tr>\n",
       "  </tbody>\n",
       "</table>\n",
       "</div>"
      ],
      "text/plain": [
       "           condition     years\n",
       "condition   1.000000 -0.551399\n",
       "years      -0.551399  1.000000"
      ]
     },
     "execution_count": 30,
     "metadata": {},
     "output_type": "execute_result"
    }
   ],
   "source": [
    "df_train.loc[df_train['condition'].notna(), ['condition', 'years']].corr()"
   ]
  },
  {
   "cell_type": "code",
   "execution_count": 31,
   "id": "61854e17",
   "metadata": {},
   "outputs": [],
   "source": [
    "df_train['condition'].fillna(df_train.groupby('years')['condition'].transform('mean'), inplace=True) \n",
    "df_test['condition'].fillna(df_test.groupby('years')['condition'].transform('mean'), inplace=True)"
   ]
  },
  {
   "cell_type": "markdown",
   "id": "5281a30d",
   "metadata": {},
   "source": [
    "### odometer"
   ]
  },
  {
   "cell_type": "markdown",
   "id": "ad27a9ef",
   "metadata": {},
   "source": [
    "Для odometer данный способ заполнения должен показать себя ещё лучше"
   ]
  },
  {
   "cell_type": "code",
   "execution_count": 32,
   "id": "c44578a3",
   "metadata": {},
   "outputs": [
    {
     "data": {
      "text/html": [
       "<div>\n",
       "<style scoped>\n",
       "    .dataframe tbody tr th:only-of-type {\n",
       "        vertical-align: middle;\n",
       "    }\n",
       "\n",
       "    .dataframe tbody tr th {\n",
       "        vertical-align: top;\n",
       "    }\n",
       "\n",
       "    .dataframe thead th {\n",
       "        text-align: right;\n",
       "    }\n",
       "</style>\n",
       "<table border=\"1\" class=\"dataframe\">\n",
       "  <thead>\n",
       "    <tr style=\"text-align: right;\">\n",
       "      <th></th>\n",
       "      <th>odometer</th>\n",
       "      <th>years</th>\n",
       "    </tr>\n",
       "  </thead>\n",
       "  <tbody>\n",
       "    <tr>\n",
       "      <th>odometer</th>\n",
       "      <td>1.000000</td>\n",
       "      <td>0.772479</td>\n",
       "    </tr>\n",
       "    <tr>\n",
       "      <th>years</th>\n",
       "      <td>0.772479</td>\n",
       "      <td>1.000000</td>\n",
       "    </tr>\n",
       "  </tbody>\n",
       "</table>\n",
       "</div>"
      ],
      "text/plain": [
       "          odometer     years\n",
       "odometer  1.000000  0.772479\n",
       "years     0.772479  1.000000"
      ]
     },
     "execution_count": 32,
     "metadata": {},
     "output_type": "execute_result"
    }
   ],
   "source": [
    "df_train.loc[df_train['odometer'].notna(), ['odometer', 'years']].corr()"
   ]
  },
  {
   "cell_type": "code",
   "execution_count": 33,
   "id": "666ac3bf",
   "metadata": {},
   "outputs": [],
   "source": [
    "df_train['odometer'].fillna(df_train.groupby('years')['odometer'].transform('mean'), inplace=True)\n",
    "df_test['odometer'].fillna(df_test.groupby('years')['odometer'].transform('mean'), inplace=True)"
   ]
  },
  {
   "cell_type": "code",
   "execution_count": 34,
   "id": "19d27ab5",
   "metadata": {},
   "outputs": [
    {
     "data": {
      "image/png": "[encoded data removed]",
      "text/plain": [
       "<Figure size 2000x1000 with 1 Axes>"
      ]
     },
     "metadata": {},
     "output_type": "display_data"
    }
   ],
   "source": [
    "df_train['odometer'].plot(kind='hist', bins=70, figsize=(20,10));"
   ]
  },
  {
   "cell_type": "markdown",
   "id": "12e56da8",
   "metadata": {},
   "source": [
    "У нас медленно убывающий хвост. Потому было предложенно добавить признак от логарифма"
   ]
  },
  {
   "cell_type": "code",
   "execution_count": 35,
   "id": "22d563df",
   "metadata": {},
   "outputs": [],
   "source": [
    "df_train['odometer_2'] = df_train['odometer'].apply(lambda x: np.log(x))\n",
    "df_test['odometer_2'] = df_test['odometer'].apply(lambda x: np.log(x))"
   ]
  },
  {
   "cell_type": "markdown",
   "id": "d32013d6",
   "metadata": {},
   "source": [
    "### color и interior "
   ]
  },
  {
   "cell_type": "markdown",
   "id": "c88c4006",
   "metadata": {},
   "source": [
    "В данных столбцах есть уникальное значение = `-`. Было сделано, что так заполнялись пропуски в данных столбцах."
   ]
  },
  {
   "cell_type": "code",
   "execution_count": 36,
   "id": "be48717e",
   "metadata": {},
   "outputs": [],
   "source": [
    "df_train['interior'].fillna('-', inplace=True)\n",
    "df_test['interior'].fillna('-', inplace=True)\n",
    "df_train['color'].fillna('-', inplace=True)\n",
    "df_test['color'].fillna('-', inplace=True)"
   ]
  },
  {
   "cell_type": "markdown",
   "id": "33412d22",
   "metadata": {},
   "source": [
    "### make и body "
   ]
  },
  {
   "cell_type": "markdown",
   "id": "477c50d8",
   "metadata": {},
   "source": [
    "данные столбцы были востановленны при помощи vin номера"
   ]
  },
  {
   "cell_type": "code",
   "execution_count": 37,
   "id": "83f8f350",
   "metadata": {},
   "outputs": [],
   "source": [
    "df_train['vin'] = df_train['vin'].apply(lambda x: x.upper())\n",
    "df_test['vin'] = df_test['vin'].apply(lambda x: x.upper())"
   ]
  },
  {
   "cell_type": "code",
   "execution_count": 38,
   "id": "73b167cd",
   "metadata": {},
   "outputs": [],
   "source": [
    "def model(x):\n",
    "    try:\n",
    "        return VIN(x).Model\n",
    "    except:\n",
    "        return None\n",
    "    \n",
    "    \n",
    "def make(x):\n",
    "    try:\n",
    "        return VIN(x).Make\n",
    "    except:\n",
    "        return None"
   ]
  },
  {
   "cell_type": "code",
   "execution_count": 39,
   "id": "36e7c1a8",
   "metadata": {},
   "outputs": [
    {
     "name": "stderr",
     "output_type": "stream",
     "text": [
      "100%|██████████████████████████████████████████████████████████████████████████████| 2079/2079 [10:35<00:00,  3.27it/s]\n"
     ]
    }
   ],
   "source": [
    "# пропуски в model\n",
    "df_test.loc[df_test['model'].isna(), 'model'] = df_test.loc[df_test['model'].isna(), 'vin'].progress_apply(model)"
   ]
  },
  {
   "cell_type": "code",
   "execution_count": 40,
   "id": "ba775be4",
   "metadata": {},
   "outputs": [
    {
     "name": "stderr",
     "output_type": "stream",
     "text": [
      "100%|██████████████████████████████████████████████████████████████████████████████| 2061/2061 [10:31<00:00,  3.27it/s]\n"
     ]
    }
   ],
   "source": [
    "# пропуски в make\n",
    "df_test.loc[df_test['make'].isna(), 'make'] = df_test.loc[df_test['make'].isna(), 'vin'].progress_apply(make)"
   ]
  },
  {
   "cell_type": "code",
   "execution_count": 41,
   "id": "b99a0633",
   "metadata": {},
   "outputs": [],
   "source": [
    "# обработка make\n",
    "df_test['make'] = df_test['make'].apply(lambda x: x.capitalize())"
   ]
  },
  {
   "cell_type": "code",
   "execution_count": 42,
   "id": "74015945",
   "metadata": {},
   "outputs": [
    {
     "name": "stderr",
     "output_type": "stream",
     "text": [
      "100%|██████████████████████████████████████████████████████████████████████████████| 8123/8123 [43:42<00:00,  3.10it/s]\n"
     ]
    }
   ],
   "source": [
    "# тренировочная выборка\n",
    "df_train.loc[df_train['model'].isna(), 'model'] = df_train.loc[df_train['model'].isna(), 'vin'].progress_apply(model)"
   ]
  },
  {
   "cell_type": "code",
   "execution_count": 43,
   "id": "70d54f14",
   "metadata": {},
   "outputs": [
    {
     "name": "stderr",
     "output_type": "stream",
     "text": [
      "100%|██████████████████████████████████████████████████████████████████████████████| 8043/8043 [40:50<00:00,  3.28it/s]\n"
     ]
    }
   ],
   "source": [
    "df_train.loc[df_train['make'].isna(), 'make'] = df_train.loc[df_train['make'].isna(), 'vin'].progress_apply(make)"
   ]
  },
  {
   "cell_type": "code",
   "execution_count": 44,
   "id": "02da74de",
   "metadata": {},
   "outputs": [],
   "source": [
    "# было решено удалить несколько строк, в которых не смогли вытащить из VIN информацию\n",
    "df_train = df_train[~df_train['make'].isna()].reset_index(drop=True)"
   ]
  },
  {
   "cell_type": "code",
   "execution_count": 45,
   "id": "61cdcab3",
   "metadata": {},
   "outputs": [],
   "source": [
    "df_train['make'] = df_train['make'].apply(lambda x: x.capitalize())"
   ]
  },
  {
   "cell_type": "code",
   "execution_count": 46,
   "id": "014e871a",
   "metadata": {},
   "outputs": [],
   "source": [
    "df_train.drop(columns=['vin'], inplace=True)\n",
    "df_test.drop(columns=['vin'], inplace=True)"
   ]
  },
  {
   "cell_type": "markdown",
   "id": "dfeb4020",
   "metadata": {},
   "source": [
    "### sellingprice"
   ]
  },
  {
   "cell_type": "code",
   "execution_count": 47,
   "id": "c5531e5b",
   "metadata": {},
   "outputs": [],
   "source": [
    "nlp = spacy.load('en_core_web_sm', disable = ['parser', 'ner'])\n",
    "\n",
    "def text_token(text):\n",
    "    text = re.sub(r'[^a-zA-Z]', ' ', text)\n",
    "    text = ' '.join([word.lower() for word in text.split()])\n",
    "    text = ' '.join([token.lemma_ for token in nlp(text)])\n",
    "    return text"
   ]
  },
  {
   "cell_type": "code",
   "execution_count": 48,
   "id": "64935859",
   "metadata": {},
   "outputs": [
    {
     "name": "stderr",
     "output_type": "stream",
     "text": [
      "100%|█████████████████████████████████████████████████████████████████████████| 440233/440233 [25:25<00:00, 288.49it/s]\n"
     ]
    }
   ],
   "source": [
    "df_train['lema'] = df_train['seller'].progress_apply(text_token)"
   ]
  },
  {
   "cell_type": "code",
   "execution_count": 49,
   "id": "5ade9921",
   "metadata": {},
   "outputs": [
    {
     "name": "stderr",
     "output_type": "stream",
     "text": [
      "100%|█████████████████████████████████████████████████████████████████████████| 110058/110058 [05:27<00:00, 335.74it/s]\n"
     ]
    }
   ],
   "source": [
    "df_test['lema'] = df_test['seller'].progress_apply(text_token)"
   ]
  },
  {
   "cell_type": "code",
   "execution_count": 50,
   "id": "6e18541e",
   "metadata": {},
   "outputs": [],
   "source": [
    "df_train.drop(columns=['seller'], inplace=True)\n",
    "df_test.drop(columns=['seller'], inplace=True)"
   ]
  },
  {
   "cell_type": "code",
   "execution_count": 51,
   "id": "de9e4033",
   "metadata": {},
   "outputs": [],
   "source": [
    "df_test.to_csv('test_pr.csv', index=False)\n",
    "df_train.to_csv('train_pr.csv', index=False)"
   ]
  },
  {
   "cell_type": "code",
   "execution_count": 52,
   "id": "60a23cfd",
   "metadata": {},
   "outputs": [
    {
     "data": {
      "text/html": [
       "<div>\n",
       "<style scoped>\n",
       "    .dataframe tbody tr th:only-of-type {\n",
       "        vertical-align: middle;\n",
       "    }\n",
       "\n",
       "    .dataframe tbody tr th {\n",
       "        vertical-align: top;\n",
       "    }\n",
       "\n",
       "    .dataframe thead th {\n",
       "        text-align: right;\n",
       "    }\n",
       "</style>\n",
       "<table border=\"1\" class=\"dataframe\">\n",
       "  <thead>\n",
       "    <tr style=\"text-align: right;\">\n",
       "      <th></th>\n",
       "      <th>make</th>\n",
       "      <th>model</th>\n",
       "      <th>body</th>\n",
       "      <th>transmission</th>\n",
       "      <th>state</th>\n",
       "      <th>condition</th>\n",
       "      <th>odometer</th>\n",
       "      <th>color</th>\n",
       "      <th>interior</th>\n",
       "      <th>years</th>\n",
       "      <th>test</th>\n",
       "      <th>odometer_2</th>\n",
       "      <th>lema</th>\n",
       "    </tr>\n",
       "  </thead>\n",
       "  <tbody>\n",
       "    <tr>\n",
       "      <th>0</th>\n",
       "      <td>Cadillac</td>\n",
       "      <td>CTS</td>\n",
       "      <td>sedan</td>\n",
       "      <td>automatic</td>\n",
       "      <td>ca</td>\n",
       "      <td>2.7</td>\n",
       "      <td>116970.0</td>\n",
       "      <td>silver</td>\n",
       "      <td>black</td>\n",
       "      <td>10</td>\n",
       "      <td>0</td>\n",
       "      <td>11.669673</td>\n",
       "      <td>lexus of stevens creek</td>\n",
       "    </tr>\n",
       "    <tr>\n",
       "      <th>1</th>\n",
       "      <td>Gmc</td>\n",
       "      <td>Savana Cargo</td>\n",
       "      <td>van</td>\n",
       "      <td>automatic</td>\n",
       "      <td>pa</td>\n",
       "      <td>4.4</td>\n",
       "      <td>6286.0</td>\n",
       "      <td>white</td>\n",
       "      <td>gray</td>\n",
       "      <td>1</td>\n",
       "      <td>0</td>\n",
       "      <td>8.746080</td>\n",
       "      <td>u haul</td>\n",
       "    </tr>\n",
       "    <tr>\n",
       "      <th>2</th>\n",
       "      <td>Nissan</td>\n",
       "      <td>Murano</td>\n",
       "      <td>suv</td>\n",
       "      <td>automatic</td>\n",
       "      <td>oh</td>\n",
       "      <td>4.6</td>\n",
       "      <td>11831.0</td>\n",
       "      <td>gray</td>\n",
       "      <td>black</td>\n",
       "      <td>2</td>\n",
       "      <td>0</td>\n",
       "      <td>9.378478</td>\n",
       "      <td>nissan infiniti lt</td>\n",
       "    </tr>\n",
       "    <tr>\n",
       "      <th>3</th>\n",
       "      <td>Chevrolet</td>\n",
       "      <td>Impala</td>\n",
       "      <td>sedan</td>\n",
       "      <td>automatic</td>\n",
       "      <td>fl</td>\n",
       "      <td>2.3</td>\n",
       "      <td>57105.0</td>\n",
       "      <td>silver</td>\n",
       "      <td>black</td>\n",
       "      <td>2</td>\n",
       "      <td>0</td>\n",
       "      <td>10.952647</td>\n",
       "      <td>onemain rem auto club of miami inc dba north dad</td>\n",
       "    </tr>\n",
       "    <tr>\n",
       "      <th>4</th>\n",
       "      <td>Nissan</td>\n",
       "      <td>Titan</td>\n",
       "      <td>crew cab</td>\n",
       "      <td>automatic</td>\n",
       "      <td>tn</td>\n",
       "      <td>2.9</td>\n",
       "      <td>31083.0</td>\n",
       "      <td>black</td>\n",
       "      <td>black</td>\n",
       "      <td>2</td>\n",
       "      <td>0</td>\n",
       "      <td>10.344416</td>\n",
       "      <td>nissan north america inc</td>\n",
       "    </tr>\n",
       "  </tbody>\n",
       "</table>\n",
       "</div>"
      ],
      "text/plain": [
       "        make         model      body transmission state  condition  odometer  \\\n",
       "0   Cadillac           CTS     sedan    automatic    ca        2.7  116970.0   \n",
       "1        Gmc  Savana Cargo       van    automatic    pa        4.4    6286.0   \n",
       "2     Nissan        Murano       suv    automatic    oh        4.6   11831.0   \n",
       "3  Chevrolet        Impala     sedan    automatic    fl        2.3   57105.0   \n",
       "4     Nissan         Titan  crew cab    automatic    tn        2.9   31083.0   \n",
       "\n",
       "    color interior  years  test  odometer_2  \\\n",
       "0  silver    black     10     0   11.669673   \n",
       "1   white     gray      1     0    8.746080   \n",
       "2    gray    black      2     0    9.378478   \n",
       "3  silver    black      2     0   10.952647   \n",
       "4   black    black      2     0   10.344416   \n",
       "\n",
       "                                               lema  \n",
       "0                            lexus of stevens creek  \n",
       "1                                            u haul  \n",
       "2                                nissan infiniti lt  \n",
       "3  onemain rem auto club of miami inc dba north dad  \n",
       "4                          nissan north america inc  "
      ]
     },
     "execution_count": 52,
     "metadata": {},
     "output_type": "execute_result"
    }
   ],
   "source": [
    "df_test.head()"
   ]
  }
 ],
 "metadata": {
  "kernelspec": {
   "display_name": "Python 3 (ipykernel)",
   "language": "python",
   "name": "python3"
  },
  "language_info": {
   "codemirror_mode": {
    "name": "ipython",
    "version": 3
   },
   "file_extension": ".py",
   "mimetype": "text/x-python",
   "name": "python",
   "nbconvert_exporter": "python",
   "pygments_lexer": "ipython3",
   "version": "3.10.12"
  }
 },
 "nbformat": 4,
 "nbformat_minor": 5
}
