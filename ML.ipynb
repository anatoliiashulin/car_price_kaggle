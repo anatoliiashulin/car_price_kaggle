{
 "cells": [
  {
   "cell_type": "code",
   "execution_count": 1,
   "id": "bff5d62b",
   "metadata": {},
   "outputs": [],
   "source": [
    "import pandas as pd\n",
    "import numpy as np \n",
    "import optuna\n",
    "\n",
    "from keras import layers\n",
    "from keras import models\n",
    "from keras.losses import mean_absolute_percentage_error\n",
    "\n",
    "from sklearn.feature_extraction.text import TfidfVectorizer, CountVectorizer\n",
    "from sklearn.impute import SimpleImputer\n",
    "from sklearn.preprocessing import OrdinalEncoder, OneHotEncoder, StandardScaler\n",
    "from sklearn.pipeline import Pipeline\n",
    "from sklearn.compose import ColumnTransformer\n",
    "from sklearn.model_selection import cross_val_score\n",
    "from sklearn.metrics import  r2_score\n",
    "\n",
    "import lightgbm as lgb\n",
    "from nltk.corpus import stopwords as nltk_stopwords"
   ]
  },
  {
   "cell_type": "code",
   "execution_count": 2,
   "id": "1f86a12c",
   "metadata": {},
   "outputs": [],
   "source": [
    "# чтение данных \n",
    "train = pd.read_csv('train_pr.csv')\n",
    "test = pd.read_csv('test_pr.csv')"
   ]
  },
  {
   "cell_type": "code",
   "execution_count": 3,
   "id": "b04363b3",
   "metadata": {},
   "outputs": [],
   "source": [
    "features_train = train.drop(columns=['sellingprice'])\n",
    "target_train = train['sellingprice']"
   ]
  },
  {
   "cell_type": "code",
   "execution_count": 4,
   "id": "b25653cc",
   "metadata": {},
   "outputs": [],
   "source": [
    "# создание pipeline\n",
    "num_transform = Pipeline(steps=[('imputer', SimpleImputer(strategy = 'constant')), \n",
    "                                ('scaler', StandardScaler())])\n",
    "\n",
    "cat_transform_1 = Pipeline(steps=[('inputer', SimpleImputer(strategy = 'constant')), \n",
    "                                  ('onehot', OneHotEncoder(drop = 'first', handle_unknown = 'ignore'))])\n",
    "\n",
    "cat_transform_2 = Pipeline(steps=[('inputer', SimpleImputer(strategy = 'constant')), \n",
    "                                  ('ordinal', OrdinalEncoder(handle_unknown='use_encoded_value', unknown_value=-1))])\n",
    "\n",
    "text_transform = Pipeline(steps=[('CV', TfidfVectorizer(stop_words=list(nltk_stopwords.words('english')), \n",
    "                                                        max_features=50))])"
   ]
  },
  {
   "cell_type": "code",
   "execution_count": 5,
   "id": "37a41a11",
   "metadata": {},
   "outputs": [],
   "source": [
    "# обрабатываемые колонки\n",
    "num_features = ['condition', 'odometer', 'years', 'test', 'odometer_2']\n",
    "cat_features = ['make', 'model', 'body', 'transmission', 'state', 'color', 'interior']\n",
    "text_features = 'lema'"
   ]
  },
  {
   "cell_type": "markdown",
   "id": "83131db3",
   "metadata": {},
   "source": [
    "### поиск параметров на lightgbm при помощи optuna"
   ]
  },
  {
   "cell_type": "code",
   "execution_count": 6,
   "id": "3186f49d",
   "metadata": {},
   "outputs": [],
   "source": [
    "#финальный обработчик для lightgbm\n",
    "preprocessor = ColumnTransformer(transformers = [\n",
    "    ('num', num_transform, num_features), \n",
    "    ('cat', cat_transform_2, cat_features),\n",
    "    ('text', text_transform, text_features)\n",
    "], remainder=\"passthrough\")"
   ]
  },
  {
   "cell_type": "code",
   "execution_count": 7,
   "id": "5d67de60",
   "metadata": {},
   "outputs": [],
   "source": [
    "#обработанные признаки\n",
    "train_lgbm = preprocessor.fit_transform(features_train)\n",
    "test_lgbm = preprocessor.transform(test)"
   ]
  },
  {
   "cell_type": "code",
   "execution_count": 8,
   "id": "d6b55ab0",
   "metadata": {},
   "outputs": [],
   "source": [
    "def objective_lgbm(trial):\n",
    "    max_depth = trial.suggest_int('max_depth', 2, 20)\n",
    "    learning_rate = trial.suggest_float('learning_rate', 1e-5, 0.1, log=True)\n",
    "    n_estimators = trial.suggest_int('n_estimators', 2000, 5500)\n",
    "    \n",
    "    score = cross_val_score(\n",
    "        lgb.LGBMRegressor(max_depth=max_depth, learning_rate=learning_rate, n_estimators=n_estimators), \n",
    "        train_lgbm, \n",
    "        target_train, \n",
    "        cv=3, \n",
    "        scoring='neg_mean_absolute_percentage_error', \n",
    "        n_jobs=-1).mean()\n",
    "    \n",
    "    return score"
   ]
  },
  {
   "cell_type": "code",
   "execution_count": 9,
   "id": "30908688",
   "metadata": {},
   "outputs": [
    {
     "name": "stderr",
     "output_type": "stream",
     "text": [
      "[I 2023-08-30 19:07:49,836] A new study created in memory with name: no-name-827a300f-4696-4ca7-9c96-33e6d142ad75\n",
      "[I 2023-08-30 19:15:29,771] Trial 0 finished with value: -0.27382897362796993 and parameters: {'max_depth': 18, 'learning_rate': 0.0024750904035885472, 'n_estimators': 4867}. Best is trial 0 with value: -0.27382897362796993.\n",
      "[I 2023-08-30 19:20:45,499] Trial 1 finished with value: -0.9780651962205135 and parameters: {'max_depth': 7, 'learning_rate': 0.00030005532622769864, 'n_estimators': 3327}. Best is trial 0 with value: -0.27382897362796993.\n",
      "[I 2023-08-30 19:28:58,574] Trial 2 finished with value: -0.35389820231890284 and parameters: {'max_depth': 6, 'learning_rate': 0.001142865072309764, 'n_estimators': 5259}. Best is trial 0 with value: -0.27382897362796993.\n",
      "[I 2023-08-30 19:32:07,581] Trial 3 finished with value: -1.077341974925589 and parameters: {'max_depth': 12, 'learning_rate': 0.0003788157372829839, 'n_estimators': 2206}. Best is trial 0 with value: -0.27382897362796993.\n",
      "[I 2023-08-30 19:35:24,745] Trial 4 finished with value: -0.2957626091650755 and parameters: {'max_depth': 9, 'learning_rate': 0.003819922155505665, 'n_estimators': 2273}. Best is trial 0 with value: -0.27382897362796993.\n",
      "[I 2023-08-30 19:41:22,030] Trial 5 finished with value: -0.25065641708781816 and parameters: {'max_depth': 19, 'learning_rate': 0.0055539951477848615, 'n_estimators': 4017}. Best is trial 5 with value: -0.25065641708781816.\n",
      "[I 2023-08-30 19:49:28,730] Trial 6 finished with value: -1.8026479403913485 and parameters: {'max_depth': 15, 'learning_rate': 1.1044716530325126e-05, 'n_estimators': 4744}. Best is trial 5 with value: -0.25065641708781816.\n",
      "[I 2023-08-30 19:52:07,614] Trial 7 finished with value: -0.19801936250794427 and parameters: {'max_depth': 10, 'learning_rate': 0.0739257099781428, 'n_estimators': 2998}. Best is trial 7 with value: -0.19801936250794427.\n",
      "[I 2023-08-30 20:00:06,115] Trial 8 finished with value: -0.30653137242771084 and parameters: {'max_depth': 12, 'learning_rate': 0.001473658138157211, 'n_estimators': 5087}. Best is trial 7 with value: -0.19801936250794427.\n",
      "[I 2023-08-30 20:03:04,672] Trial 9 finished with value: -1.6770749457204175 and parameters: {'max_depth': 5, 'learning_rate': 5.9802190884039994e-05, 'n_estimators': 2497}. Best is trial 7 with value: -0.19801936250794427.\n",
      "[I 2023-08-30 20:05:39,632] Trial 10 finished with value: -0.1998265086609937 and parameters: {'max_depth': 15, 'learning_rate': 0.0977765913955693, 'n_estimators': 3210}. Best is trial 7 with value: -0.19801936250794427.\n",
      "[I 2023-08-30 20:07:03,124] Trial 11 finished with value: -0.39822067665103345 and parameters: {'max_depth': 2, 'learning_rate': 0.08759012330138949, 'n_estimators': 3155}. Best is trial 7 with value: -0.19801936250794427.\n",
      "[I 2023-08-30 20:09:19,336] Trial 12 finished with value: -0.20029506961954435 and parameters: {'max_depth': 15, 'learning_rate': 0.08169173297668046, 'n_estimators': 2984}. Best is trial 7 with value: -0.19801936250794427.\n",
      "[I 2023-08-30 20:13:34,875] Trial 13 finished with value: -0.22063742020121158 and parameters: {'max_depth': 15, 'learning_rate': 0.021002247899279094, 'n_estimators': 3926}. Best is trial 7 with value: -0.19801936250794427.\n",
      "[I 2023-08-30 20:16:48,017] Trial 14 finished with value: -0.22760259479687725 and parameters: {'max_depth': 10, 'learning_rate': 0.021445841977049292, 'n_estimators': 2811}. Best is trial 7 with value: -0.19801936250794427.\n"
     ]
    }
   ],
   "source": [
    "study = optuna.create_study(direction='maximize')\n",
    "study.optimize(objective_lgbm, n_trials=15)"
   ]
  },
  {
   "cell_type": "code",
   "execution_count": 10,
   "id": "32c41fe4",
   "metadata": {},
   "outputs": [
    {
     "data": {
      "text/plain": [
       "{'max_depth': 10, 'learning_rate': 0.0739257099781428, 'n_estimators': 2998}"
      ]
     },
     "execution_count": 10,
     "metadata": {},
     "output_type": "execute_result"
    }
   ],
   "source": [
    "study.best_params"
   ]
  },
  {
   "cell_type": "code",
   "execution_count": 13,
   "id": "310bec29",
   "metadata": {},
   "outputs": [
    {
     "data": {
      "text/html": [
       "<style>#sk-container-id-1 {color: black;}#sk-container-id-1 pre{padding: 0;}#sk-container-id-1 div.sk-toggleable {background-color: white;}#sk-container-id-1 label.sk-toggleable__label {cursor: pointer;display: block;width: 100%;margin-bottom: 0;padding: 0.3em;box-sizing: border-box;text-align: center;}#sk-container-id-1 label.sk-toggleable__label-arrow:before {content: \"▸\";float: left;margin-right: 0.25em;color: #696969;}#sk-container-id-1 label.sk-toggleable__label-arrow:hover:before {color: black;}#sk-container-id-1 div.sk-estimator:hover label.sk-toggleable__label-arrow:before {color: black;}#sk-container-id-1 div.sk-toggleable__content {max-height: 0;max-width: 0;overflow: hidden;text-align: left;background-color: #f0f8ff;}#sk-container-id-1 div.sk-toggleable__content pre {margin: 0.2em;color: black;border-radius: 0.25em;background-color: #f0f8ff;}#sk-container-id-1 input.sk-toggleable__control:checked~div.sk-toggleable__content {max-height: 200px;max-width: 100%;overflow: auto;}#sk-container-id-1 input.sk-toggleable__control:checked~label.sk-toggleable__label-arrow:before {content: \"▾\";}#sk-container-id-1 div.sk-estimator input.sk-toggleable__control:checked~label.sk-toggleable__label {background-color: #d4ebff;}#sk-container-id-1 div.sk-label input.sk-toggleable__control:checked~label.sk-toggleable__label {background-color: #d4ebff;}#sk-container-id-1 input.sk-hidden--visually {border: 0;clip: rect(1px 1px 1px 1px);clip: rect(1px, 1px, 1px, 1px);height: 1px;margin: -1px;overflow: hidden;padding: 0;position: absolute;width: 1px;}#sk-container-id-1 div.sk-estimator {font-family: monospace;background-color: #f0f8ff;border: 1px dotted black;border-radius: 0.25em;box-sizing: border-box;margin-bottom: 0.5em;}#sk-container-id-1 div.sk-estimator:hover {background-color: #d4ebff;}#sk-container-id-1 div.sk-parallel-item::after {content: \"\";width: 100%;border-bottom: 1px solid gray;flex-grow: 1;}#sk-container-id-1 div.sk-label:hover label.sk-toggleable__label {background-color: #d4ebff;}#sk-container-id-1 div.sk-serial::before {content: \"\";position: absolute;border-left: 1px solid gray;box-sizing: border-box;top: 0;bottom: 0;left: 50%;z-index: 0;}#sk-container-id-1 div.sk-serial {display: flex;flex-direction: column;align-items: center;background-color: white;padding-right: 0.2em;padding-left: 0.2em;position: relative;}#sk-container-id-1 div.sk-item {position: relative;z-index: 1;}#sk-container-id-1 div.sk-parallel {display: flex;align-items: stretch;justify-content: center;background-color: white;position: relative;}#sk-container-id-1 div.sk-item::before, #sk-container-id-1 div.sk-parallel-item::before {content: \"\";position: absolute;border-left: 1px solid gray;box-sizing: border-box;top: 0;bottom: 0;left: 50%;z-index: -1;}#sk-container-id-1 div.sk-parallel-item {display: flex;flex-direction: column;z-index: 1;position: relative;background-color: white;}#sk-container-id-1 div.sk-parallel-item:first-child::after {align-self: flex-end;width: 50%;}#sk-container-id-1 div.sk-parallel-item:last-child::after {align-self: flex-start;width: 50%;}#sk-container-id-1 div.sk-parallel-item:only-child::after {width: 0;}#sk-container-id-1 div.sk-dashed-wrapped {border: 1px dashed gray;margin: 0 0.4em 0.5em 0.4em;box-sizing: border-box;padding-bottom: 0.4em;background-color: white;}#sk-container-id-1 div.sk-label label {font-family: monospace;font-weight: bold;display: inline-block;line-height: 1.2em;}#sk-container-id-1 div.sk-label-container {text-align: center;}#sk-container-id-1 div.sk-container {/* jupyter's `normalize.less` sets `[hidden] { display: none; }` but bootstrap.min.css set `[hidden] { display: none !important; }` so we also need the `!important` here to be able to override the default hidden behavior on the sphinx rendered scikit-learn.org. See: https://github.com/scikit-learn/scikit-learn/issues/21755 */display: inline-block !important;position: relative;}#sk-container-id-1 div.sk-text-repr-fallback {display: none;}</style><div id=\"sk-container-id-1\" class=\"sk-top-container\"><div class=\"sk-text-repr-fallback\"><pre>LGBMRegressor(learning_rate=0.0739257099781428, max_depth=10, n_estimators=2998)</pre><b>In a Jupyter environment, please rerun this cell to show the HTML representation or trust the notebook. <br />On GitHub, the HTML representation is unable to render, please try loading this page with nbviewer.org.</b></div><div class=\"sk-container\" hidden><div class=\"sk-item\"><div class=\"sk-estimator sk-toggleable\"><input class=\"sk-toggleable__control sk-hidden--visually\" id=\"sk-estimator-id-1\" type=\"checkbox\" checked><label for=\"sk-estimator-id-1\" class=\"sk-toggleable__label sk-toggleable__label-arrow\">LGBMRegressor</label><div class=\"sk-toggleable__content\"><pre>LGBMRegressor(learning_rate=0.0739257099781428, max_depth=10, n_estimators=2998)</pre></div></div></div></div></div>"
      ],
      "text/plain": [
       "LGBMRegressor(learning_rate=0.0739257099781428, max_depth=10, n_estimators=2998)"
      ]
     },
     "execution_count": 13,
     "metadata": {},
     "output_type": "execute_result"
    }
   ],
   "source": [
    "#обучение на лучших параметрах\n",
    "model = lgb.LGBMRegressor(**study.best_params)\n",
    "model.fit(train_lgbm, target_train)"
   ]
  },
  {
   "cell_type": "code",
   "execution_count": 16,
   "id": "1b097f53",
   "metadata": {},
   "outputs": [],
   "source": [
    "answer = pd.read_csv('sample_submission.csv')"
   ]
  },
  {
   "cell_type": "code",
   "execution_count": 21,
   "id": "65b9d8ba",
   "metadata": {},
   "outputs": [],
   "source": [
    "#сохранение результатов\n",
    "answer['sellingprice'] = model.predict(test_lgbm)\n",
    "answer.to_csv('answer_1.csv', index=False)"
   ]
  },
  {
   "cell_type": "markdown",
   "id": "3fdce0a9",
   "metadata": {},
   "source": [
    "### создание нейронной сети"
   ]
  },
  {
   "cell_type": "code",
   "execution_count": 22,
   "id": "1cf51b84",
   "metadata": {},
   "outputs": [],
   "source": [
    "# препроцессор для нейронной сети\n",
    "preprocessor = ColumnTransformer(transformers = [\n",
    "    ('num', num_transform, num_features), \n",
    "    ('cat', cat_transform_1, cat_features),\n",
    "    ('text', text_transform, text_features)\n",
    "], remainder=\"passthrough\")"
   ]
  },
  {
   "cell_type": "code",
   "execution_count": 25,
   "id": "b798e61d",
   "metadata": {},
   "outputs": [
    {
     "name": "stderr",
     "output_type": "stream",
     "text": [
      "C:\\Users\\tolya\\.conda\\envs\\data\\lib\\site-packages\\sklearn\\preprocessing\\_encoders.py:227: UserWarning: Found unknown categories in columns [0, 1] during transform. These unknown categories will be encoded as all zeros\n",
      "  warnings.warn(\n"
     ]
    }
   ],
   "source": [
    "train_nn = preprocessor.fit_transform(features_train)\n",
    "test_nn = preprocessor.transform(test)"
   ]
  },
  {
   "cell_type": "code",
   "execution_count": 31,
   "id": "ddfe39f3",
   "metadata": {},
   "outputs": [],
   "source": [
    "train_nn = train_nn.toarray()\n",
    "test_nn = test_nn.toarray()"
   ]
  },
  {
   "cell_type": "code",
   "execution_count": 32,
   "id": "89f14bf6",
   "metadata": {},
   "outputs": [],
   "source": [
    "model = models.Sequential([\n",
    "    layers.Dense(2048, activation='relu', input_shape=(train_nn.shape[1],)),\n",
    "    layers.Dense(1024, activation='relu'),\n",
    "    layers.Dropout(0.2),\n",
    "    layers.Dense(1024, activation='relu'),\n",
    "    layers.Dense(512, activation='relu'),\n",
    "    layers.BatchNormalization(),\n",
    "    layers.Dense(512, activation='relu'),\n",
    "    layers.Dense(256, activation='relu'),\n",
    "    layers.Dropout(0.2),\n",
    "    layers.Dense(256, activation='relu'),\n",
    "    layers.Dense(128, activation='relu'),\n",
    "    layers.Dense(64, activation='relu'),\n",
    "    layers.Dense(1)\n",
    "])"
   ]
  },
  {
   "cell_type": "code",
   "execution_count": 33,
   "id": "c12d6bab",
   "metadata": {},
   "outputs": [
    {
     "name": "stdout",
     "output_type": "stream",
     "text": [
      "Model: \"sequential_1\"\n",
      "_________________________________________________________________\n",
      " Layer (type)                Output Shape              Param #   \n",
      "=================================================================\n",
      " dense_10 (Dense)            (None, 2048)              2568192   \n",
      "                                                                 \n",
      " dense_11 (Dense)            (None, 1024)              2098176   \n",
      "                                                                 \n",
      " dropout_2 (Dropout)         (None, 1024)              0         \n",
      "                                                                 \n",
      " dense_12 (Dense)            (None, 1024)              1049600   \n",
      "                                                                 \n",
      " dense_13 (Dense)            (None, 512)               524800    \n",
      "                                                                 \n",
      " batch_normalization_1 (Batc  (None, 512)              2048      \n",
      " hNormalization)                                                 \n",
      "                                                                 \n",
      " dense_14 (Dense)            (None, 512)               262656    \n",
      "                                                                 \n",
      " dense_15 (Dense)            (None, 256)               131328    \n",
      "                                                                 \n",
      " dropout_3 (Dropout)         (None, 256)               0         \n",
      "                                                                 \n",
      " dense_16 (Dense)            (None, 256)               65792     \n",
      "                                                                 \n",
      " dense_17 (Dense)            (None, 128)               32896     \n",
      "                                                                 \n",
      " dense_18 (Dense)            (None, 64)                8256      \n",
      "                                                                 \n",
      " dense_19 (Dense)            (None, 1)                 65        \n",
      "                                                                 \n",
      "=================================================================\n",
      "Total params: 6,743,809\n",
      "Trainable params: 6,742,785\n",
      "Non-trainable params: 1,024\n",
      "_________________________________________________________________\n"
     ]
    }
   ],
   "source": [
    "model.summary()"
   ]
  },
  {
   "cell_type": "code",
   "execution_count": 34,
   "id": "039116f5",
   "metadata": {},
   "outputs": [],
   "source": [
    "model.compile(optimizer='adam', loss=mean_absolute_percentage_error, metrics=['mae'])"
   ]
  },
  {
   "cell_type": "code",
   "execution_count": 35,
   "id": "2ccd30bb",
   "metadata": {},
   "outputs": [
    {
     "name": "stdout",
     "output_type": "stream",
     "text": [
      "Epoch 1/5\n",
      "5503/5503 [==============================] - 361s 64ms/step - loss: 21.3942 - mae: 2397.7336 - val_loss: 21.3705 - val_mae: 1663.7665\n",
      "Epoch 2/5\n",
      "5503/5503 [==============================] - 342s 62ms/step - loss: 18.1622 - mae: 1938.1973 - val_loss: 20.8879 - val_mae: 1551.4247\n",
      "Epoch 3/5\n",
      "5503/5503 [==============================] - 341s 62ms/step - loss: 16.4185 - mae: 1697.5571 - val_loss: 21.6472 - val_mae: 1675.4111\n",
      "Epoch 4/5\n",
      "5503/5503 [==============================] - 324s 59ms/step - loss: 15.4394 - mae: 1577.7482 - val_loss: 21.2641 - val_mae: 1612.2024\n",
      "Epoch 5/5\n",
      "5503/5503 [==============================] - 324s 59ms/step - loss: 14.8516 - mae: 1520.4169 - val_loss: 21.4133 - val_mae: 1411.3147\n"
     ]
    }
   ],
   "source": [
    "his = model.fit(train_nn, target_train, epochs=5, batch_size=64, validation_split=0.2)"
   ]
  },
  {
   "cell_type": "code",
   "execution_count": 36,
   "id": "35a8d872",
   "metadata": {},
   "outputs": [
    {
     "name": "stdout",
     "output_type": "stream",
     "text": [
      "3440/3440 [==============================] - 49s 14ms/step\n"
     ]
    }
   ],
   "source": [
    "answer['sellingprice'] = model.predict(test_nn).reshape(-1)\n",
    "answer.to_csv('answer_2.csv', index=False)"
   ]
  }
 ],
 "metadata": {
  "kernelspec": {
   "display_name": "Python 3 (ipykernel)",
   "language": "python",
   "name": "python3"
  },
  "language_info": {
   "codemirror_mode": {
    "name": "ipython",
    "version": 3
   },
   "file_extension": ".py",
   "mimetype": "text/x-python",
   "name": "python",
   "nbconvert_exporter": "python",
   "pygments_lexer": "ipython3",
   "version": "3.10.12"
  }
 },
 "nbformat": 4,
 "nbformat_minor": 5
}
